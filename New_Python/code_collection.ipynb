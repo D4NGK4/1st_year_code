{
 "cells": [
  {
   "cell_type": "code",
   "execution_count": null,
   "metadata": {},
   "outputs": [],
   "source": [
    "for i in range (1,101):\n",
    "    if i%3==0 and i%5==0:\n",
    "        print(\"FizzBuzz\")\n",
    "    elif i%3==0:\n",
    "        print(\"Fizz\")\n",
    "    elif i%5==0:\n",
    "        print(\"Buzz\")\n",
    "    else: \n",
    "        print(i)\n"
   ]
  },
  {
   "cell_type": "code",
   "execution_count": null,
   "metadata": {},
   "outputs": [],
   "source": [
    "#Excercise 7\n",
    "#Compute the Sum of the First n positive number\n",
    "num = int(input(\"Enter num: \"))\n",
    "\n",
    "#compute the sum\n",
    "sum = num*(num+1)/2\n",
    "\n",
    "#Display result\n",
    "print(\"The sum of the first\", num, \"positive integers is\", sum)"
   ]
  },
  {
   "cell_type": "code",
   "execution_count": 7,
   "metadata": {},
   "outputs": [
    {
     "name": "stdout",
     "output_type": "stream",
     "text": [
      "The Distance between t1 32.0  and g1 4.0  from t2 32.0 and 67.0  is 11866.79km\n"
     ]
    }
   ],
   "source": [
    "from imaplib import Int2AP\n",
    "import numpy as np\n",
    "\n",
    "t1 = float(input(\"Enter latitude 1: \")) \n",
    "g1 = float(input(\"Enter latitude 2: \")) \n",
    "t2 = float(input(\"Enter longitude 1: \")) \n",
    "g2 = float(input(\"Enter longitude 2: \")) \n",
    "\n",
    "distance = 6371.01*(np.arccos(np.sin(t1)*np.sin(t2))) + np.cos(t1)*np.cos(t2)*np.cos(g1-g2)\n",
    "\n",
    "print(\"The Distance between\", t1,\"latitude and\", g1,\"longitude from \",t2 , \"latitude and\", g2,\"longitude is\",str(round(distance, 2))+\"km\")\n"
   ]
  }
 ],
 "metadata": {
  "kernelspec": {
   "display_name": "Python 3.8.10 64-bit",
   "language": "python",
   "name": "python3"
  },
  "language_info": {
   "codemirror_mode": {
    "name": "ipython",
    "version": 3
   },
   "file_extension": ".py",
   "mimetype": "text/x-python",
   "name": "python",
   "nbconvert_exporter": "python",
   "pygments_lexer": "ipython3",
   "version": "3.8.10"
  },
  "orig_nbformat": 4,
  "vscode": {
   "interpreter": {
    "hash": "916dbcbb3f70747c44a77c7bcd40155683ae19c65e1c03b4aa3499c5328201f1"
   }
  }
 },
 "nbformat": 4,
 "nbformat_minor": 2
}
