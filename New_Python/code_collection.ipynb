{
 "cells": [
  {
   "cell_type": "code",
   "execution_count": null,
   "metadata": {},
   "outputs": [],
   "source": [
    "for i in range (1,101):\n",
    "    if i%3==0 and i%5==0:\n",
    "        print(\"FizzBuzz\")\n",
    "    elif i%3==0:\n",
    "        print(\"Fizz\")\n",
    "    elif i%5==0:\n",
    "        print(\"Buzz\")\n",
    "    else: \n",
    "        print(i)\n"
   ]
  },
  {
   "cell_type": "code",
   "execution_count": 39,
   "metadata": {},
   "outputs": [
    {
     "name": "stdout",
     "output_type": "stream",
     "text": [
      "The sum of the first 6 positive integers is 21.0\n"
     ]
    }
   ],
   "source": [
    "#Excercise 7\n",
    "#Compute the Sum of the First n positive number\n",
    "num = int(input(\"Enter num: \"))\n",
    "\n",
    "#compute the sum\n",
    "sum = num*(num+1)/2\n",
    "\n",
    "#Display result\n",
    "print(\"The sum of the first\", num, \"positive integers is\", sum)"
   ]
  },
  {
   "cell_type": "code",
   "execution_count": null,
   "metadata": {},
   "outputs": [],
   "source": [
    "from imaplib import Int2AP\n",
    "import numpy as np\n",
    "\n",
    "t1 = float(input(\"Enter latitude 1: \")) \n",
    "g1 = float(input(\"Enter latitude 2: \")) \n",
    "t2 = float(input(\"Enter longitude 1: \")) \n",
    "g2 = float(input(\"Enter longitude 2: \")) \n",
    "\n",
    "distance = 6371.01*(np.arccos(np.sin(t1)*np.sin(t2))) + np.cos(t1)*np.cos(t2)*np.cos(g1-g2)\n",
    "\n",
    "print(\"The Distance between\", t1,\"latitude and\", g1,\"longitude from \",t2 , \"latitude and\", g2,\"longitude is\",str(round(distance, 2))+\"km\")\n"
   ]
  },
  {
   "cell_type": "code",
   "execution_count": null,
   "metadata": {},
   "outputs": [],
   "source": [
    "#This program takes damage and speed (attacks per second) and returns the amount of damage after a given time.\n",
    "def __init__(self,atk,spd,time):\n",
    "    self.atk = atk\n",
    "    self.spd = spd\n",
    "    self.time = time\n",
    "\n",
    "    \n",
    "\n",
    "#def damage(atk, spd, time):\n"
   ]
  },
  {
   "cell_type": "code",
   "execution_count": 55,
   "metadata": {},
   "outputs": [
    {
     "name": "stdout",
     "output_type": "stream",
     "text": [
      "The number is  8\n",
      "num of iterations = 22\n"
     ]
    }
   ],
   "source": [
    "import random as rand\n",
    "\n",
    "#This program will repeat itself until it retrieves the number needed and give the number of iterations. \n",
    "\n",
    "iterations = 0\n",
    "\n",
    "while True:\n",
    "    \n",
    "    def randnum():\n",
    "        for i in range(1,100):\n",
    "            i = rand.randint(1,100)\n",
    "            return i\n",
    "\n",
    "    iterations += 1\n",
    "\n",
    "    def guess(x):\n",
    "        if x == 8:\n",
    "            print(\"The number is \", x)\n",
    "            print(\"num of iterations = \" + str(iterations))\n",
    "            return True\n",
    "            \n",
    "    if guess(randnum()) is True:\n",
    "        break"
   ]
  },
  {
   "cell_type": "code",
   "execution_count": null,
   "metadata": {},
   "outputs": [],
   "source": [
    "#Dictionaries are usefull\n",
    "\n",
    "def do_one(x):\n",
    "    print(\"x * 1 = \", x*1)\n",
    "def do_two(x):\n",
    "    print(\"x * 2 = \", x*2)\n",
    "def do_three(x):\n",
    "    print(\"x * 3 = \", x*3)\n",
    "def do_default(x):\n",
    "    print(\"x * 10 = \", x*10)\n",
    "\n",
    "x = int(input((\"Enter Number\")))\n",
    "\n",
    "\n",
    "\n",
    "'''\n",
    "Instead of this \n",
    "if x == 1:\n",
    "    do_one(x)\n",
    "elif x == 2:\n",
    "    do_two(x)\n",
    "elif x == 3:\n",
    "    do_three(x)\n",
    "else:\n",
    "    do_default(x)\n",
    "\n",
    "'''\n",
    "\n",
    "#do this\n",
    "#this is a dictionary\n",
    "actions = {1: do_one,2: do_two,3: do_three, }\n",
    "\n",
    "action = actions.get(x, do_default)\n",
    "action(x)"
   ]
  }
 ],
 "metadata": {
  "kernelspec": {
   "display_name": "Python 3.8.10 64-bit",
   "language": "python",
   "name": "python3"
  },
  "language_info": {
   "codemirror_mode": {
    "name": "ipython",
    "version": 3
   },
   "file_extension": ".py",
   "mimetype": "text/x-python",
   "name": "python",
   "nbconvert_exporter": "python",
   "pygments_lexer": "ipython3",
   "version": "3.8.10"
  },
  "orig_nbformat": 4,
  "vscode": {
   "interpreter": {
    "hash": "916dbcbb3f70747c44a77c7bcd40155683ae19c65e1c03b4aa3499c5328201f1"
   }
  }
 },
 "nbformat": 4,
 "nbformat_minor": 2
}
