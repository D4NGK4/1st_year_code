{
 "cells": [
  {
   "cell_type": "code",
   "execution_count": 6,
   "metadata": {},
   "outputs": [
    {
     "ename": "TypeError",
     "evalue": "append() takes exactly one argument (0 given)",
     "output_type": "error",
     "traceback": [
      "\u001b[0;31m---------------------------------------------------------------------------\u001b[0m",
      "\u001b[0;31mTypeError\u001b[0m                                 Traceback (most recent call last)",
      "\u001b[1;32m/home/dan/Documents/Code/Dump.ipynb Cell 1'\u001b[0m in \u001b[0;36m<cell line: 3>\u001b[0;34m()\u001b[0m\n\u001b[1;32m      <a href='vscode-notebook-cell:/home/dan/Documents/Code/Dump.ipynb#ch0000000?line=2'>3</a>\u001b[0m \u001b[39mfor\u001b[39;00m i \u001b[39min\u001b[39;00m \u001b[39mrange\u001b[39m(\u001b[39m0\u001b[39m, \u001b[39m3\u001b[39m):\n\u001b[1;32m      <a href='vscode-notebook-cell:/home/dan/Documents/Code/Dump.ipynb#ch0000000?line=3'>4</a>\u001b[0m     country1 \u001b[39m=\u001b[39m \u001b[39minput\u001b[39m(\u001b[39m\"\u001b[39m\u001b[39mEnter countries: \u001b[39m\u001b[39m\"\u001b[39m)\n\u001b[0;32m----> <a href='vscode-notebook-cell:/home/dan/Documents/Code/Dump.ipynb#ch0000000?line=5'>6</a>\u001b[0m     count1\u001b[39m.\u001b[39;49mappend()\n\u001b[1;32m      <a href='vscode-notebook-cell:/home/dan/Documents/Code/Dump.ipynb#ch0000000?line=7'>8</a>\u001b[0m \u001b[39mprint\u001b[39m(count1)\n",
      "\u001b[0;31mTypeError\u001b[0m: append() takes exactly one argument (0 given)"
     ]
    }
   ],
   "source": [
    "count1 = []\n",
    "\n",
    "for i in range(0, 3):\n",
    "    country1 = input(\"Enter countries: \")\n",
    "\n",
    "    count1.append()\n",
    "\n",
    "print(count1)\n"
   ]
  },
  {
   "cell_type": "code",
   "execution_count": 3,
   "metadata": {},
   "outputs": [
    {
     "name": "stdout",
     "output_type": "stream",
     "text": [
      "2\n",
      "4\n",
      "6\n"
     ]
    }
   ],
   "source": [
    "def stuff():\n",
    "    yield 1 + 1\n",
    "    yield 2 + 2\n",
    "    yield 3 + 3\n",
    "\n",
    "for x in stuff():\n",
    "    print(x)\n"
   ]
  },
  {
   "cell_type": "code",
   "execution_count": 62,
   "metadata": {},
   "outputs": [],
   "source": [
    "import numpy as np\n",
    "import random\n",
    "#copied from github\n",
    "\n",
    "def bubbleSort(array, *args):\n",
    "    array = array.copy()\n",
    "\n",
    "    size = len(array)\n",
    "    for i in range(size):\n",
    "        swapped = False\n",
    "        for j in range(size - i - 1):\n",
    "            yield array, j, j+1, -1, -1\n",
    "            if array[j] > array[j + 1]:\n",
    "                array[j], array[j + 1] = array[j + 1], array[j]\n",
    "                swapped = True\n",
    "        if not swapped:\n",
    "            break\n",
    "        \n",
    "\n",
    "x = np.random.randint(0,100,50)"
   ]
  },
  {
   "cell_type": "code",
   "execution_count": 63,
   "metadata": {},
   "outputs": [],
   "source": [
    "y = [i for i in bubbleSort(x)]\n",
    "last = y[-1][0]"
   ]
  },
  {
   "cell_type": "code",
   "execution_count": 4,
   "metadata": {},
   "outputs": [
    {
     "ename": "ModuleNotFoundError",
     "evalue": "No module named 'matplotlib'",
     "output_type": "error",
     "traceback": [
      "\u001b[0;31m---------------------------------------------------------------------------\u001b[0m",
      "\u001b[0;31mModuleNotFoundError\u001b[0m                       Traceback (most recent call last)",
      "\u001b[1;32m/home/dan/Documents/Code/Dump.ipynb Cell 5\u001b[0m in \u001b[0;36m<cell line: 1>\u001b[0;34m()\u001b[0m\n\u001b[0;32m----> <a href='vscode-notebook-cell:/home/dan/Documents/Code/Dump.ipynb#W4sZmlsZQ%3D%3D?line=0'>1</a>\u001b[0m \u001b[39mimport\u001b[39;00m \u001b[39mmatplotlib\u001b[39;00m\u001b[39m.\u001b[39;00m\u001b[39mpyplot\u001b[39;00m \u001b[39mas\u001b[39;00m \u001b[39mplt\u001b[39;00m\n\u001b[1;32m      <a href='vscode-notebook-cell:/home/dan/Documents/Code/Dump.ipynb#W4sZmlsZQ%3D%3D?line=2'>3</a>\u001b[0m fig, ax \u001b[39m=\u001b[39m plt\u001b[39m.\u001b[39msubplots()\n\u001b[1;32m      <a href='vscode-notebook-cell:/home/dan/Documents/Code/Dump.ipynb#W4sZmlsZQ%3D%3D?line=4'>5</a>\u001b[0m ax\u001b[39m.\u001b[39mscatter(np\u001b[39m.\u001b[39marange(\u001b[39m0\u001b[39m,\u001b[39mlen\u001b[39m(x),\u001b[39m1\u001b[39m), x)\n",
      "\u001b[0;31mModuleNotFoundError\u001b[0m: No module named 'matplotlib'"
     ]
    }
   ],
   "source": [
    "import matplotlib.pyplot as plt\n",
    "\n",
    "fig, ax = plt.subplots()\n",
    "\n",
    "ax.scatter(np.arange(0,len(x),1), x)\n",
    "ax.scatter(np.arange(0,len(x)), last)"
   ]
  },
  {
   "cell_type": "code",
   "execution_count": 11,
   "metadata": {},
   "outputs": [
    {
     "name": "stdout",
     "output_type": "stream",
     "text": [
      "Alenere created.\n",
      "Scar created.\n",
      "Sythe created.\n"
     ]
    }
   ],
   "source": [
    "class Character:\n",
    "        def __init__(self, name, hp, mp, atk, lvl):\n",
    "                self.name = name\n",
    "                self.hp = hp\n",
    "                self.mp = mp\n",
    "                self.lvl = lvl\n",
    "                print(name + \" created.\")\n",
    "\n",
    "characterOne = Character(\"Alenere\", 100, 50, 12, 1)\n",
    "characterTwo = Character(\"Scar\", 100, 400, 15, 3)\n",
    "characterThree = Character(\"Sythe\", 100, 450, 11, 2)\n"
   ]
  },
  {
   "cell_type": "code",
   "execution_count": null,
   "metadata": {},
   "outputs": [],
   "source": [
    "#Joshua Valmoria\n",
    "#BS in Information Technology - 1r12\n",
    "\n",
    "from tkinter import *\n",
    "\n",
    "root = Tk()\n",
    "\n",
    "root.title (\"Joshua Valmoria | BSIT-1R12\")\n",
    "root.geometry ('300x200')\n",
    "root.config(bg = \"#000000\")\n",
    "\n",
    "def getSum():\n",
    "    sum = int(txt_a1.get()) + int(txt_a2.get())\n",
    "    lbl_sum = Label(root, text = \"Sum: \" + str(sum), bg = \"#000000\" , fg = \"#16f87b\")\n",
    "    lbl_sum.place(x = 120, y = 125)\n",
    "\n",
    "def getDiff():\n",
    "    difference = int(txt_a1.get()) - int(txt_a2.get())\n",
    "    lbl_diff = Label(root, text = \"Difference: \" + str(difference), bg = \"#000000\" , fg = \"#16f87b\")\n",
    "    lbl_diff.place(x = 130, y = 135)\n",
    "\n",
    "def getProd():\n",
    "    product = int(txt_a1.get()) * int(txt_a2.get())\n",
    "    lbl_prod = Label(root, text = \"Product: \" + str(product), bg = \"#000000\" , fg = \"#16f87b\")\n",
    "    lbl_prod.place(x = 140, y = 145) \n",
    "\n",
    "\n",
    "def getQuo():\n",
    "    quotient = int(txt_a1.get()) / int(txt_a2.get())\n",
    "    lbl_quo = Label(root, text = \"Quotient: \" + str(quotient), bg = \"#000000\" , fg = \"#16f87b\")\n",
    "    lbl_quo.place(x = 150, y = 155)\n",
    "\n",
    "lbl_a1 = Label(root, text = \"First Value\", bg = \"#ea3c53\", fg = \"#000000\")\n",
    "txt_a1 = text = Entry(root, bg = \"#696969\", fg = \"#FFFFFF\")\n",
    "txt_a1.get()\n",
    "lbl_a2 = Label(root, text = \"Second Value\", bg = \"#00bfff\", fg = \"#000000\")\n",
    "txt_a2 = text = Entry(root, bg = \"#696969\", fg = \"#FFFFFF\")\n",
    "txt_a2.get()\n",
    "\n",
    "btn_sum = Button(root, text = \"+\", command = getSum, padx = 5, pady=3, bg = \"#16f87b\", fg = \"#000000\", )\n",
    "btn_diff = Button(root, text = \"-\", command = getDiff, padx = 5, pady=3, bg = \"#16f87b\", fg = \"#000000\", )\n",
    "btn_prod = Button(root, text = \"*\", command = getProd, padx = 5, pady=3, bg = \"#16f87b\", fg = \"#000000\", )\n",
    "btn_quo = Button(root, text = \"/\", command = getQuo, padx = 5, pady=3, bg = \"#16f87b\", fg = \"#000000\", )\n",
    "\n",
    "\n",
    "lbl_a1.place(x = 55, y = 25)\n",
    "txt_a1.place(x = 20, y = 55)\n",
    "lbl_a2.place(x =180, y = 25)\n",
    "txt_a2.place(x = 155, y = 55)\n",
    "btn_sum.place(x = 110, y = 85)\n",
    "btn_diff.place(x = 120, y = 85)\n",
    "btn_prod.place(x = 130, y = 85)\n",
    "btn_quo.place(x = 140, y = 85)\n",
    "\n",
    "root.mainloop()"
   ]
  },
  {
   "cell_type": "code",
   "execution_count": 2,
   "metadata": {},
   "outputs": [
    {
     "name": "stdout",
     "output_type": "stream",
     "text": [
      "CPU times: user 83.8 ms, sys: 7.98 ms, total: 91.7 ms\n",
      "Wall time: 91.9 ms\n",
      "CPU times: user 4.52 ms, sys: 0 ns, total: 4.52 ms\n",
      "Wall time: 4.22 ms\n"
     ]
    },
    {
     "data": {
      "text/plain": [
       "array([      1,       2,       3, ...,  999998,  999999, 1000000])"
      ]
     },
     "execution_count": 2,
     "metadata": {},
     "output_type": "execute_result"
    }
   ],
   "source": [
    "import numpy as np\n",
    "import random\n",
    "\n",
    "reg_list = [random.randint(0,10) for i in range(int(1e6))]\n",
    "np_list = np.arange(0,int(1e6),1)\n",
    "\n",
    "def plus(lst):\n",
    "    new_lst = []\n",
    "    for i in lst:\n",
    "        new_lst.append(i+1)\n",
    "    return new_lst\n",
    "\n",
    "def nm_plus(arry):\n",
    "    arry = arry+1\n",
    "    return arry\n",
    "\n",
    "%time plus(reg_list)\n",
    "%time nm_plus(np_list)"
   ]
  },
  {
   "cell_type": "code",
   "execution_count": 1,
   "metadata": {},
   "outputs": [
    {
     "data": {
      "text/plain": [
       "10000000000.0"
      ]
     },
     "execution_count": 1,
     "metadata": {},
     "output_type": "execute_result"
    }
   ],
   "source": [
    "1e10"
   ]
  },
  {
   "cell_type": "code",
   "execution_count": 1,
   "metadata": {},
   "outputs": [
    {
     "ename": "KeyboardInterrupt",
     "evalue": "",
     "output_type": "error",
     "traceback": [
      "\u001b[0;31m---------------------------------------------------------------------------\u001b[0m",
      "\u001b[0;31mKeyboardInterrupt\u001b[0m                         Traceback (most recent call last)",
      "\u001b[1;32m/home/dan/Documents/Code/Dump.ipynb Cell 10\u001b[0m in \u001b[0;36m<cell line: 3>\u001b[0;34m()\u001b[0m\n\u001b[1;32m      <a href='vscode-notebook-cell:/home/dan/Documents/Code/Dump.ipynb#X12sZmlsZQ%3D%3D?line=0'>1</a>\u001b[0m \u001b[39mfrom\u001b[39;00m \u001b[39mtkinter\u001b[39;00m \u001b[39mimport\u001b[39;00m \u001b[39m*\u001b[39m\n\u001b[0;32m----> <a href='vscode-notebook-cell:/home/dan/Documents/Code/Dump.ipynb#X12sZmlsZQ%3D%3D?line=2'>3</a>\u001b[0m fenster \u001b[39m=\u001b[39m Tk()\n\u001b[1;32m      <a href='vscode-notebook-cell:/home/dan/Documents/Code/Dump.ipynb#X12sZmlsZQ%3D%3D?line=3'>4</a>\u001b[0m fenster\u001b[39m.\u001b[39mtitle(\u001b[39m\"\u001b[39m\u001b[39mWindow\u001b[39m\u001b[39m\"\u001b[39m)\n\u001b[1;32m      <a href='vscode-notebook-cell:/home/dan/Documents/Code/Dump.ipynb#X12sZmlsZQ%3D%3D?line=5'>6</a>\u001b[0m \u001b[39mdef\u001b[39;00m \u001b[39mswitch\u001b[39m():\n",
      "File \u001b[0;32m/usr/lib/python3.8/tkinter/__init__.py:2270\u001b[0m, in \u001b[0;36mTk.__init__\u001b[0;34m(self, screenName, baseName, className, useTk, sync, use)\u001b[0m\n\u001b[1;32m   2268\u001b[0m         baseName \u001b[39m=\u001b[39m baseName \u001b[39m+\u001b[39m ext\n\u001b[1;32m   2269\u001b[0m interactive \u001b[39m=\u001b[39m \u001b[39m0\u001b[39m\n\u001b[0;32m-> 2270\u001b[0m \u001b[39mself\u001b[39m\u001b[39m.\u001b[39mtk \u001b[39m=\u001b[39m _tkinter\u001b[39m.\u001b[39;49mcreate(screenName, baseName, className, interactive, wantobjects, useTk, sync, use)\n\u001b[1;32m   2271\u001b[0m \u001b[39mif\u001b[39;00m useTk:\n\u001b[1;32m   2272\u001b[0m     \u001b[39mself\u001b[39m\u001b[39m.\u001b[39m_loadtk()\n",
      "\u001b[0;31mKeyboardInterrupt\u001b[0m: "
     ]
    }
   ],
   "source": [
    "from tkinter import *\n",
    "\n",
    "fenster = Tk()\n",
    "fenster.title(\"Window\")\n",
    "\n",
    "def switch():\n",
    "    if b1[\"state\"] == \"normal\":\n",
    "        b1[\"state\"] = \"disabled\"\n",
    "        b2[\"text\"] = \"enable\"\n",
    "    else:\n",
    "        b1[\"state\"] = \"normal\"\n",
    "        b2[\"text\"] = \"disable\"\n",
    "\n",
    "#--Buttons\n",
    "b1 = Button(fenster, text=\"Button\", height=5, width=7)\n",
    "b1.grid(row=0, column=0)    \n",
    "\n",
    "b2 = Button(text=\"disable\", command=switch)\n",
    "b2.grid(row=0, column=1)\n",
    "\n",
    "fenster.mainloop()"
   ]
  }
 ],
 "metadata": {
  "interpreter": {
   "hash": "916dbcbb3f70747c44a77c7bcd40155683ae19c65e1c03b4aa3499c5328201f1"
  },
  "kernelspec": {
   "display_name": "Python 3.8.10 64-bit",
   "language": "python",
   "name": "python3"
  },
  "language_info": {
   "codemirror_mode": {
    "name": "ipython",
    "version": 3
   },
   "file_extension": ".py",
   "mimetype": "text/x-python",
   "name": "python",
   "nbconvert_exporter": "python",
   "pygments_lexer": "ipython3",
   "version": "3.8.10"
  },
  "orig_nbformat": 4
 },
 "nbformat": 4,
 "nbformat_minor": 2
}
